{
 "cells": [
  {
   "cell_type": "code",
   "execution_count": 6,
   "metadata": {},
   "outputs": [
    {
     "name": "stdout",
     "output_type": "stream",
     "text": [
      "[{'id': 1, 'nome': 'Maria'}, {'id': 2, 'nome': 'João'}, {'id': 3, 'nome': 'Pedro'}]\n"
     ]
    }
   ],
   "source": [
    "lista = [{\"id\": 1 , \"nome\": \"Maria\"},\n",
    "    {\"id\": 2 , \"nome\": \"João\"},\n",
    "    {\"id\": 2 , \"nome\": \"João Paulo\"},\n",
    "    {\"id\": 3 , \"nome\": \"Pedro\"},\n",
    "]\n",
    "\n",
    "lista_filtrada = []\n",
    "for item in lista:\n",
    "\n",
    "    for index, itens in enumerate(lista):\n",
    "        if item[\"id\"]\n",
    "\n",
    "\n",
    "    if not any(d['id'] == item['id'] for d in lista_filtrada):\n",
    "        lista_filtrada.append(item)\n",
    "\n",
    "print(lista_filtrada)"
   ]
  }
 ],
 "metadata": {
  "kernelspec": {
   "display_name": "venv",
   "language": "python",
   "name": "python3"
  },
  "language_info": {
   "codemirror_mode": {
    "name": "ipython",
    "version": 3
   },
   "file_extension": ".py",
   "mimetype": "text/x-python",
   "name": "python",
   "nbconvert_exporter": "python",
   "pygments_lexer": "ipython3",
   "version": "3.11.6"
  }
 },
 "nbformat": 4,
 "nbformat_minor": 2
}
